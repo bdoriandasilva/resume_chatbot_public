{
 "cells": [
  {
   "cell_type": "code",
   "execution_count": null,
   "metadata": {},
   "outputs": [],
   "source": [
    "import os\n",
    "import sys\n",
    "import warnings\n",
    "sys.path.append(os.path.dirname(os.getcwd()))\n",
    "warnings.filterwarnings('ignore')\n",
    "import pyodbc\n",
    "from config.configuration import load_config\n",
    "from backend.db_manager import DBManager\n",
    "\n",
    "parameters = load_config()"
   ]
  },
  {
   "cell_type": "markdown",
   "metadata": {},
   "source": [
    "### Table Creation  \n",
    "After creating the database in the Azure SQL Server service and adding the credentials to the `.env` file, you can run the following cells to create the necessary tables.  "
   ]
  },
  {
   "cell_type": "code",
   "execution_count": 4,
   "metadata": {},
   "outputs": [],
   "source": [
    "## Create Conversation history table\n",
    "create_table = False\n",
    "if create_table:\n",
    "    sql_query = \"\"\"\n",
    "            CREATE TABLE [dbo].[ConversationHistory] (\n",
    "            [ID]                 INT           IDENTITY (1, 1) NOT NULL,\n",
    "            [UserID]             INT NOT NULL,\n",
    "            [DateTime]           DATETIME NOT NULL default(current_timestamp),\n",
    "            [UserQuery]          NVARCHAR (MAX) NOT NULL,\n",
    "            [ChatBotAnswer]      NVARCHAR (MAX) NOT NULL,\n",
    "            PRIMARY KEY CLUSTERED ([ID] ASC)\n",
    "        );\n",
    "        \"\"\"\n",
    "    conn = pyodbc.connect(parameters['sql_conn_str'])\n",
    "    cursor = conn.cursor()\n",
    "\n",
    "    # Table should be created ahead of time in production app.\n",
    "    cursor.execute(sql_query)\n",
    "\n",
    "    conn.commit()\n"
   ]
  },
  {
   "cell_type": "code",
   "execution_count": 3,
   "metadata": {},
   "outputs": [],
   "source": [
    "## Create users table\n",
    "create_table = False\n",
    "if create_table:\n",
    "    conn = pyodbc.connect(parameters['sql_conn_str'])\n",
    "    cursor = conn.cursor()\n",
    "\n",
    "    # Table should be created ahead of time in production app.\n",
    "    cursor.execute(\"\"\"\n",
    "        CREATE TABLE [dbo].[Users] (\n",
    "        [ID]                 INT           IDENTITY (1, 1) NOT NULL,\n",
    "        [UserName]           VARCHAR (255) NOT NULL,\n",
    "        [Email]              VARCHAR (255) NULL,\n",
    "        [FailedLoginAttemps] INT           CONSTRAINT [DEFAULT_Users_FailedLoginAttemps] DEFAULT ((0)) NOT NULL,\n",
    "        [LoggedIn]           BIT           CONSTRAINT [DEFAULT_Users_LoggedIn] DEFAULT ((0)) NOT NULL,\n",
    "        [Name]               VARCHAR (255) NOT NULL,\n",
    "        [Password]           VARCHAR (255) NOT NULL,\n",
    "        [Roles]              VARCHAR (255) NOT NULL,\n",
    "        [max_messages]       INT           CONSTRAINT [DEFAULT_Users_max_messages] DEFAULT ((15)) NULL,\n",
    "        PRIMARY KEY CLUSTERED ([ID] ASC),\n",
    "        UNIQUE NONCLUSTERED ([UserName] ASC)\n",
    "    );\n",
    "    \"\"\")\n",
    "\n",
    "    conn.commit()"
   ]
  },
  {
   "cell_type": "markdown",
   "metadata": {},
   "source": [
    "### Testing DBManager funcitons\n",
    "Once you have populated the tables you can test the different functions from the DBManager class. Below you have some function examples:"
   ]
  },
  {
   "cell_type": "code",
   "execution_count": null,
   "metadata": {},
   "outputs": [],
   "source": [
    "db_manager = DBManager(parameters)\n",
    "db_manager.get_users_info() "
   ]
  },
  {
   "cell_type": "code",
   "execution_count": null,
   "metadata": {},
   "outputs": [],
   "source": [
    "user_id = 1 # add the user id\n",
    "db_manager.get_cant_user_messages(user_id)"
   ]
  },
  {
   "cell_type": "code",
   "execution_count": null,
   "metadata": {},
   "outputs": [],
   "source": [
    "db_manager.validate_user_max_messages(user_id)"
   ]
  }
 ],
 "metadata": {
  "kernelspec": {
   "display_name": ".venv",
   "language": "python",
   "name": "python3"
  },
  "language_info": {
   "codemirror_mode": {
    "name": "ipython",
    "version": 3
   },
   "file_extension": ".py",
   "mimetype": "text/x-python",
   "name": "python",
   "nbconvert_exporter": "python",
   "pygments_lexer": "ipython3",
   "version": "3.11.5"
  }
 },
 "nbformat": 4,
 "nbformat_minor": 2
}
